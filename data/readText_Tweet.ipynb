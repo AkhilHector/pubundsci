{
 "cells": [
  {
   "cell_type": "code",
   "execution_count": 1,
   "metadata": {
    "collapsed": true
   },
   "outputs": [],
   "source": [
    "#Import Packages\n",
    "\n",
    "import csv, os, json, numpy as np, pandas as pd, re"
   ]
  },
  {
   "cell_type": "code",
   "execution_count": 2,
   "metadata": {
    "collapsed": true
   },
   "outputs": [],
   "source": [
    "#Specify Paths\n",
    "\n",
    "source = \"C:\\\\Users\\\\haris\\\\Documents\\\\Altmetric Data\\\\data\\\\\"\n",
    "dump = \"C:\\\\Users\\\\haris\\\\Documents\\\\FallScripts\\\\DumpText.csv\""
   ]
  },
  {
   "cell_type": "code",
   "execution_count": 3,
   "metadata": {
    "collapsed": true
   },
   "outputs": [],
   "source": [
    "#Write Headers\n",
    "\n",
    "with open(dump, mode = 'w', newline = '') as csvFile:\n",
    "    fieldnames = ['altmetric_id', 'title', 'abstract', 'tweet']\n",
    "    csvWriter = csv.DictWriter(csvFile, fieldnames = fieldnames)\n",
    "    csvWriter.writeheader()"
   ]
  },
  {
   "cell_type": "code",
   "execution_count": 4,
   "metadata": {
    "collapsed": false
   },
   "outputs": [],
   "source": [
    "#Open files, Read Data, Process Text, Write Data\n",
    "\n",
    "with open(dump, mode = 'a', newline = '') as dataFile:\n",
    "    csvWriter = csv.writer(dataFile)\n",
    "    for dirname in os.listdir(source):\n",
    "        subdir = source + dirname + '\\\\'\n",
    "        for filename in os.listdir(subdir):\n",
    "            file_path = subdir + filename\n",
    "            try:\n",
    "                with open(file_path) as json_file:\n",
    "\n",
    "                    raw_data = json.load(json_file)\n",
    "\n",
    "                    try:\n",
    "                        altmetric_id = raw_data['altmetric_id']\n",
    "                    except:\n",
    "                        pass\n",
    "\n",
    "                    try:\n",
    "                        title = json_data['citation']['subjects']['title']\n",
    "                        title = title.replace(',', '')\n",
    "                    except:\n",
    "                        pass\n",
    "\n",
    "                    try:\n",
    "                        abstract = json_data['citation']['abstract']\n",
    "                        abstract = abstract.replace(',', '')\n",
    "                    except:\n",
    "                        pass\n",
    "\n",
    "                    try:\n",
    "                        tweets = []\n",
    "                        for tweet_count in json_data['posts']['twitter']:\n",
    "                            tweets.append(json_data['posts']['twitter'][tweet_count]['summary'])\n",
    "                        for tweet in tweets:\n",
    "                            tweet = ' '.join(re.sub(\"(^rt)|(@[A-Za-z0-9]+)|([^0-9A-Za-z \\t])|(\\w+:\\/\\/\\S+)\",\" \",tweet).split())\n",
    "                            tweet = tweet.replace(',', '')\n",
    "                            if(tweet in title or tweet in abstract):\n",
    "                                tweets.remove(tweet)\n",
    "                    except:\n",
    "                        pass\n",
    "\n",
    "                    for tweet in tweets:\n",
    "                        csvWriter.writerow([altmetric_id, title, abstract, tweet])\n",
    "\n",
    "            except:\n",
    "                pass"
   ]
  },
  {
   "cell_type": "code",
   "execution_count": null,
   "metadata": {
    "collapsed": true
   },
   "outputs": [],
   "source": []
  }
 ],
 "metadata": {
  "kernelspec": {
   "display_name": "Python 3",
   "language": "python",
   "name": "python3"
  },
  "language_info": {
   "codemirror_mode": {
    "name": "ipython",
    "version": 3
   },
   "file_extension": ".py",
   "mimetype": "text/x-python",
   "name": "python",
   "nbconvert_exporter": "python",
   "pygments_lexer": "ipython3",
   "version": "3.6.0"
  }
 },
 "nbformat": 4,
 "nbformat_minor": 2
}
