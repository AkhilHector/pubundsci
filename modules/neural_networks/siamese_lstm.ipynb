{
 "cells": [
  {
   "cell_type": "markdown",
   "metadata": {},
   "source": [
    "# Building a fastText word vector based siamese LSTM model for computing comprehension scores for pairs of text"
   ]
  },
  {
   "cell_type": "markdown",
   "metadata": {},
   "source": [
    "### 1. Import the libraries"
   ]
  },
  {
   "cell_type": "code",
   "execution_count": 14,
   "metadata": {},
   "outputs": [],
   "source": [
    "# This Source Code Form is subject to the terms of the MPL\n",
    "# License. If a copy of the same was not distributed with this\n",
    "# file, You can obtain one at\n",
    "# https://github.com/akhilpandey95/pubundsci/blob/master/LICENSE.\n",
    "\n",
    "import os\n",
    "import random\n",
    "import string\n",
    "import spacy as sp\n",
    "import numpy as np\n",
    "import pandas as pd\n",
    "import seaborn as sns\n",
    "from tqdm import tqdm\n",
    "import tensorflow as tf\n",
    "import matplotlib.pyplot as plt\n",
    "from collections import defaultdict\n",
    "from matplotlib.pyplot import figure\n",
    "from sklearn.preprocessing import MinMaxScaler\n",
    "\n",
    "%matplotlib inline"
   ]
  },
  {
   "cell_type": "markdown",
   "metadata": {},
   "source": [
    "### 2. Load the data"
   ]
  },
  {
   "cell_type": "markdown",
   "metadata": {},
   "source": [
    "#### 2.1 Load the fastText word vector"
   ]
  },
  {
   "cell_type": "code",
   "execution_count": 4,
   "metadata": {},
   "outputs": [],
   "source": [
    "# load the fastText word embedding\n",
    "nlp = sp.load('pubundsci_ft_wvec')"
   ]
  },
  {
   "cell_type": "markdown",
   "metadata": {},
   "source": [
    "#### 2.2 Read the semeval training data and prepare the training dataset"
   ]
  },
  {
   "cell_type": "code",
   "execution_count": 5,
   "metadata": {},
   "outputs": [
    {
     "data": {
      "text/html": [
       "<div>\n",
       "<style scoped>\n",
       "    .dataframe tbody tr th:only-of-type {\n",
       "        vertical-align: middle;\n",
       "    }\n",
       "\n",
       "    .dataframe tbody tr th {\n",
       "        vertical-align: top;\n",
       "    }\n",
       "\n",
       "    .dataframe thead th {\n",
       "        text-align: right;\n",
       "    }\n",
       "</style>\n",
       "<table border=\"1\" class=\"dataframe\">\n",
       "  <thead>\n",
       "    <tr style=\"text-align: right;\">\n",
       "      <th></th>\n",
       "      <th>text_a</th>\n",
       "      <th>text_b</th>\n",
       "      <th>cat</th>\n",
       "      <th>sim_score</th>\n",
       "    </tr>\n",
       "  </thead>\n",
       "  <tbody>\n",
       "    <tr>\n",
       "      <th>0</th>\n",
       "      <td>Little St-Julien-le-Pauvre, a jewel of early G...</td>\n",
       "      <td>Bricks fired on the spot are the valley’s main...</td>\n",
       "      <td>Travel-1</td>\n",
       "      <td>0.00</td>\n",
       "    </tr>\n",
       "    <tr>\n",
       "      <th>1</th>\n",
       "      <td>Manzanillo initially drew the interest of inte...</td>\n",
       "      <td>Nearby, on Calle Pío Rosado, the Museo Emilio ...</td>\n",
       "      <td>Travel-3</td>\n",
       "      <td>0</td>\n",
       "    </tr>\n",
       "    <tr>\n",
       "      <th>2</th>\n",
       "      <td>Alongside a landmark water tower is a good ope...</td>\n",
       "      <td>Following a Mongol invasion, King Belá IV made...</td>\n",
       "      <td>Travel-4</td>\n",
       "      <td>2.5</td>\n",
       "    </tr>\n",
       "    <tr>\n",
       "      <th>3</th>\n",
       "      <td>Most beaches protected from the open ocean hav...</td>\n",
       "      <td>Boat cruises offer a care free way to enjoy th...</td>\n",
       "      <td>Travel-5</td>\n",
       "      <td>3</td>\n",
       "    </tr>\n",
       "    <tr>\n",
       "      <th>4</th>\n",
       "      <td>Shaolin offers one more treat for the more adv...</td>\n",
       "      <td>Visitors may ride a gondola to the mountain to...</td>\n",
       "      <td>Travel-6</td>\n",
       "      <td>2.5</td>\n",
       "    </tr>\n",
       "  </tbody>\n",
       "</table>\n",
       "</div>"
      ],
      "text/plain": [
       "                                              text_a  \\\n",
       "0  Little St-Julien-le-Pauvre, a jewel of early G...   \n",
       "1  Manzanillo initially drew the interest of inte...   \n",
       "2  Alongside a landmark water tower is a good ope...   \n",
       "3  Most beaches protected from the open ocean hav...   \n",
       "4  Shaolin offers one more treat for the more adv...   \n",
       "\n",
       "                                              text_b       cat sim_score  \n",
       "0  Bricks fired on the spot are the valley’s main...  Travel-1      0.00  \n",
       "1  Nearby, on Calle Pío Rosado, the Museo Emilio ...  Travel-3         0  \n",
       "2  Following a Mongol invasion, King Belá IV made...  Travel-4       2.5  \n",
       "3  Boat cruises offer a care free way to enjoy th...  Travel-5         3  \n",
       "4  Visitors may ride a gondola to the mountain to...  Travel-6       2.5  "
      ]
     },
     "execution_count": 5,
     "metadata": {},
     "output_type": "execute_result"
    }
   ],
   "source": [
    "\n",
    "# load semeval dataset\n",
    "semeval_train_data = pd.read_csv('paragraph2sentence.train.input.tsv', sep='\\t')\n",
    "semeval_train_vals = pd.read_csv('paragraph2sentence.train.gs.tsv', sep='\\t')\n",
    "\n",
    "# create a defaultdict\n",
    "train_data = defaultdict(dict)\n",
    "\n",
    "# add the column containing the paragraphs\n",
    "train_data['text_a'] = [semeval_train_data.columns[0] if x == 0 \n",
    "                  else semeval_train_data[semeval_train_data.columns[0]][x] \n",
    "                  for x in range(len(semeval_train_data[semeval_train_data.columns[0]]))]\n",
    "\n",
    "# add the column containing the sentences\n",
    "train_data['text_b'] = [semeval_train_data.columns[1] if x == 0\n",
    "                  else semeval_train_data[semeval_train_data.columns[1]][x]\n",
    "                  for x in range(len(semeval_train_data[semeval_train_data.columns[1]]))]\n",
    "\n",
    "# add the column containing the categories\n",
    "train_data['cat'] = [semeval_train_data.columns[2] if x == 0\n",
    "                  else semeval_train_data[semeval_train_data.columns[2]][x]\n",
    "                  for x in range(len(semeval_train_data[semeval_train_data.columns[2]]))]\n",
    "\n",
    "# add the column containing the similarity scores\n",
    "train_data['sim_score'] = [semeval_train_vals.columns[0] if x == 0\n",
    "                  else semeval_train_vals[semeval_train_vals.columns[0]][x]\n",
    "                  for x in range(len(semeval_train_vals[semeval_train_vals.columns[0]]))]\n",
    "\n",
    "# convert the dict to a dataframe\n",
    "train_data = pd.DataFrame(train_data)\n",
    "\n",
    "# print the head of the data\n",
    "train_data.head()"
   ]
  },
  {
   "cell_type": "markdown",
   "metadata": {},
   "source": [
    "#### 2.3 Normalize the sim_score column in the training data to a 0-1 range"
   ]
  },
  {
   "cell_type": "code",
   "execution_count": 6,
   "metadata": {},
   "outputs": [
    {
     "data": {
      "text/html": [
       "<div>\n",
       "<style scoped>\n",
       "    .dataframe tbody tr th:only-of-type {\n",
       "        vertical-align: middle;\n",
       "    }\n",
       "\n",
       "    .dataframe tbody tr th {\n",
       "        vertical-align: top;\n",
       "    }\n",
       "\n",
       "    .dataframe thead th {\n",
       "        text-align: right;\n",
       "    }\n",
       "</style>\n",
       "<table border=\"1\" class=\"dataframe\">\n",
       "  <thead>\n",
       "    <tr style=\"text-align: right;\">\n",
       "      <th></th>\n",
       "      <th>text_a</th>\n",
       "      <th>text_b</th>\n",
       "      <th>cat</th>\n",
       "      <th>sim_score</th>\n",
       "    </tr>\n",
       "  </thead>\n",
       "  <tbody>\n",
       "    <tr>\n",
       "      <th>0</th>\n",
       "      <td>Little St-Julien-le-Pauvre, a jewel of early G...</td>\n",
       "      <td>Bricks fired on the spot are the valley’s main...</td>\n",
       "      <td>Travel-1</td>\n",
       "      <td>0.000</td>\n",
       "    </tr>\n",
       "    <tr>\n",
       "      <th>1</th>\n",
       "      <td>Manzanillo initially drew the interest of inte...</td>\n",
       "      <td>Nearby, on Calle Pío Rosado, the Museo Emilio ...</td>\n",
       "      <td>Travel-3</td>\n",
       "      <td>0.000</td>\n",
       "    </tr>\n",
       "    <tr>\n",
       "      <th>2</th>\n",
       "      <td>Alongside a landmark water tower is a good ope...</td>\n",
       "      <td>Following a Mongol invasion, King Belá IV made...</td>\n",
       "      <td>Travel-4</td>\n",
       "      <td>0.625</td>\n",
       "    </tr>\n",
       "    <tr>\n",
       "      <th>3</th>\n",
       "      <td>Most beaches protected from the open ocean hav...</td>\n",
       "      <td>Boat cruises offer a care free way to enjoy th...</td>\n",
       "      <td>Travel-5</td>\n",
       "      <td>0.750</td>\n",
       "    </tr>\n",
       "    <tr>\n",
       "      <th>4</th>\n",
       "      <td>Shaolin offers one more treat for the more adv...</td>\n",
       "      <td>Visitors may ride a gondola to the mountain to...</td>\n",
       "      <td>Travel-6</td>\n",
       "      <td>0.625</td>\n",
       "    </tr>\n",
       "  </tbody>\n",
       "</table>\n",
       "</div>"
      ],
      "text/plain": [
       "                                              text_a  \\\n",
       "0  Little St-Julien-le-Pauvre, a jewel of early G...   \n",
       "1  Manzanillo initially drew the interest of inte...   \n",
       "2  Alongside a landmark water tower is a good ope...   \n",
       "3  Most beaches protected from the open ocean hav...   \n",
       "4  Shaolin offers one more treat for the more adv...   \n",
       "\n",
       "                                              text_b       cat  sim_score  \n",
       "0  Bricks fired on the spot are the valley’s main...  Travel-1      0.000  \n",
       "1  Nearby, on Calle Pío Rosado, the Museo Emilio ...  Travel-3      0.000  \n",
       "2  Following a Mongol invasion, King Belá IV made...  Travel-4      0.625  \n",
       "3  Boat cruises offer a care free way to enjoy th...  Travel-5      0.750  \n",
       "4  Visitors may ride a gondola to the mountain to...  Travel-6      0.625  "
      ]
     },
     "execution_count": 6,
     "metadata": {},
     "output_type": "execute_result"
    }
   ],
   "source": [
    "# store the values of the scores into an array\n",
    "x = train_data['sim_score'].values.astype(float)\n",
    "\n",
    "# reshape the array\n",
    "x = x.reshape(-1, 1)\n",
    "\n",
    "# create a minmax processor object\n",
    "min_max_scaler = MinMaxScaler()\n",
    "\n",
    "# create an object to transform the data to fit minmax processor\n",
    "x_scaled = min_max_scaler.fit_transform(x)\n",
    "\n",
    "# Run the normalizer on the dataframe\n",
    "train_data = train_data.assign(sim_score = x_scaled)\n",
    "\n",
    "# print the head of the data\n",
    "train_data.head()"
   ]
  },
  {
   "cell_type": "markdown",
   "metadata": {},
   "source": [
    "#### 2.4 Read the semeval test data and prepare the test dataset"
   ]
  },
  {
   "cell_type": "code",
   "execution_count": 7,
   "metadata": {},
   "outputs": [
    {
     "data": {
      "text/html": [
       "<div>\n",
       "<style scoped>\n",
       "    .dataframe tbody tr th:only-of-type {\n",
       "        vertical-align: middle;\n",
       "    }\n",
       "\n",
       "    .dataframe tbody tr th {\n",
       "        vertical-align: top;\n",
       "    }\n",
       "\n",
       "    .dataframe thead th {\n",
       "        text-align: right;\n",
       "    }\n",
       "</style>\n",
       "<table border=\"1\" class=\"dataframe\">\n",
       "  <thead>\n",
       "    <tr style=\"text-align: right;\">\n",
       "      <th></th>\n",
       "      <th>text_a</th>\n",
       "      <th>text_b</th>\n",
       "      <th>cat</th>\n",
       "      <th>sim_score</th>\n",
       "    </tr>\n",
       "  </thead>\n",
       "  <tbody>\n",
       "    <tr>\n",
       "      <th>0</th>\n",
       "      <td>Well what I want to know is that is it possibl...</td>\n",
       "      <td>I have heard that Verizon has the fastest spee...</td>\n",
       "      <td>CQA-1</td>\n",
       "      <td>1.25</td>\n",
       "    </tr>\n",
       "    <tr>\n",
       "      <th>1</th>\n",
       "      <td>On a certain site, my friend was using my comp...</td>\n",
       "      <td>If I have set a website to never remember my p...</td>\n",
       "      <td>CQA-3</td>\n",
       "      <td>4</td>\n",
       "    </tr>\n",
       "    <tr>\n",
       "      <th>2</th>\n",
       "      <td>OKay, so i am interested in blogging, although...</td>\n",
       "      <td>how do you know if your twitter account is bei...</td>\n",
       "      <td>CQA-4</td>\n",
       "      <td>0</td>\n",
       "    </tr>\n",
       "    <tr>\n",
       "      <th>3</th>\n",
       "      <td>The donations page for a legit church site tha...</td>\n",
       "      <td>How can i get rid of an image on imageshack wi...</td>\n",
       "      <td>CQA-5</td>\n",
       "      <td>0</td>\n",
       "    </tr>\n",
       "    <tr>\n",
       "      <th>4</th>\n",
       "      <td>I'm not looking to get rich or anything. I jus...</td>\n",
       "      <td>Online scams have been known to be very danger...</td>\n",
       "      <td>CQA-6</td>\n",
       "      <td>0.5</td>\n",
       "    </tr>\n",
       "  </tbody>\n",
       "</table>\n",
       "</div>"
      ],
      "text/plain": [
       "                                              text_a  \\\n",
       "0  Well what I want to know is that is it possibl...   \n",
       "1  On a certain site, my friend was using my comp...   \n",
       "2  OKay, so i am interested in blogging, although...   \n",
       "3  The donations page for a legit church site tha...   \n",
       "4  I'm not looking to get rich or anything. I jus...   \n",
       "\n",
       "                                              text_b    cat sim_score  \n",
       "0  I have heard that Verizon has the fastest spee...  CQA-1      1.25  \n",
       "1  If I have set a website to never remember my p...  CQA-3         4  \n",
       "2  how do you know if your twitter account is bei...  CQA-4         0  \n",
       "3  How can i get rid of an image on imageshack wi...  CQA-5         0  \n",
       "4  Online scams have been known to be very danger...  CQA-6       0.5  "
      ]
     },
     "execution_count": 7,
     "metadata": {},
     "output_type": "execute_result"
    }
   ],
   "source": [
    "\n",
    "# load semeval dataset\n",
    "semeval_test_data = pd.read_csv('paragraph2sentence.test.input.tsv', sep='\\t')\n",
    "semeval_test_vals = pd.read_csv('paragraph2sentence.test.gs.tsv', sep='\\t')\n",
    "\n",
    "# create a defaultdict\n",
    "test_data = defaultdict(dict)\n",
    "\n",
    "# add the column containing the paragraphs\n",
    "test_data['text_a'] = [semeval_test_data.columns[0] if x == 0 \n",
    "                  else semeval_test_data[semeval_test_data.columns[0]][x] \n",
    "                  for x in range(len(semeval_test_data[semeval_test_data.columns[0]]))]\n",
    "\n",
    "# add the column containing the sentences\n",
    "test_data['text_b'] = [semeval_test_data.columns[1] if x == 0\n",
    "                  else semeval_test_data[semeval_test_data.columns[1]][x]\n",
    "                  for x in range(len(semeval_test_data[semeval_test_data.columns[1]]))]\n",
    "\n",
    "# add the column containing the categories\n",
    "test_data['cat'] = [semeval_test_data.columns[2] if x == 0\n",
    "                  else semeval_test_data[semeval_test_data.columns[2]][x]\n",
    "                  for x in range(len(semeval_test_data[semeval_test_data.columns[2]]))]\n",
    "\n",
    "# add the column containing the similarity scores\n",
    "test_data['sim_score'] = [semeval_test_vals.columns[0] if x == 0\n",
    "                  else semeval_test_vals[semeval_test_vals.columns[0]][x]\n",
    "                  for x in range(len(semeval_test_vals[semeval_test_vals.columns[0]]))]\n",
    "\n",
    "# convert the dict to a dataframe\n",
    "test_data = pd.DataFrame(test_data)\n",
    "\n",
    "# print the head of the data\n",
    "test_data.head()"
   ]
  },
  {
   "cell_type": "markdown",
   "metadata": {},
   "source": [
    "#### 2.5 Normalize the sim_score column in the test data to a 0-1 range"
   ]
  },
  {
   "cell_type": "code",
   "execution_count": 8,
   "metadata": {},
   "outputs": [
    {
     "data": {
      "text/html": [
       "<div>\n",
       "<style scoped>\n",
       "    .dataframe tbody tr th:only-of-type {\n",
       "        vertical-align: middle;\n",
       "    }\n",
       "\n",
       "    .dataframe tbody tr th {\n",
       "        vertical-align: top;\n",
       "    }\n",
       "\n",
       "    .dataframe thead th {\n",
       "        text-align: right;\n",
       "    }\n",
       "</style>\n",
       "<table border=\"1\" class=\"dataframe\">\n",
       "  <thead>\n",
       "    <tr style=\"text-align: right;\">\n",
       "      <th></th>\n",
       "      <th>text_a</th>\n",
       "      <th>text_b</th>\n",
       "      <th>cat</th>\n",
       "      <th>sim_score</th>\n",
       "    </tr>\n",
       "  </thead>\n",
       "  <tbody>\n",
       "    <tr>\n",
       "      <th>0</th>\n",
       "      <td>Well what I want to know is that is it possibl...</td>\n",
       "      <td>I have heard that Verizon has the fastest spee...</td>\n",
       "      <td>CQA-1</td>\n",
       "      <td>0.3125</td>\n",
       "    </tr>\n",
       "    <tr>\n",
       "      <th>1</th>\n",
       "      <td>On a certain site, my friend was using my comp...</td>\n",
       "      <td>If I have set a website to never remember my p...</td>\n",
       "      <td>CQA-3</td>\n",
       "      <td>1.0000</td>\n",
       "    </tr>\n",
       "    <tr>\n",
       "      <th>2</th>\n",
       "      <td>OKay, so i am interested in blogging, although...</td>\n",
       "      <td>how do you know if your twitter account is bei...</td>\n",
       "      <td>CQA-4</td>\n",
       "      <td>0.0000</td>\n",
       "    </tr>\n",
       "    <tr>\n",
       "      <th>3</th>\n",
       "      <td>The donations page for a legit church site tha...</td>\n",
       "      <td>How can i get rid of an image on imageshack wi...</td>\n",
       "      <td>CQA-5</td>\n",
       "      <td>0.0000</td>\n",
       "    </tr>\n",
       "    <tr>\n",
       "      <th>4</th>\n",
       "      <td>I'm not looking to get rich or anything. I jus...</td>\n",
       "      <td>Online scams have been known to be very danger...</td>\n",
       "      <td>CQA-6</td>\n",
       "      <td>0.1250</td>\n",
       "    </tr>\n",
       "  </tbody>\n",
       "</table>\n",
       "</div>"
      ],
      "text/plain": [
       "                                              text_a  \\\n",
       "0  Well what I want to know is that is it possibl...   \n",
       "1  On a certain site, my friend was using my comp...   \n",
       "2  OKay, so i am interested in blogging, although...   \n",
       "3  The donations page for a legit church site tha...   \n",
       "4  I'm not looking to get rich or anything. I jus...   \n",
       "\n",
       "                                              text_b    cat  sim_score  \n",
       "0  I have heard that Verizon has the fastest spee...  CQA-1     0.3125  \n",
       "1  If I have set a website to never remember my p...  CQA-3     1.0000  \n",
       "2  how do you know if your twitter account is bei...  CQA-4     0.0000  \n",
       "3  How can i get rid of an image on imageshack wi...  CQA-5     0.0000  \n",
       "4  Online scams have been known to be very danger...  CQA-6     0.1250  "
      ]
     },
     "execution_count": 8,
     "metadata": {},
     "output_type": "execute_result"
    }
   ],
   "source": [
    "# store the values of the scores into an array\n",
    "x = test_data['sim_score'].values.astype(float)\n",
    "\n",
    "# reshape the array\n",
    "x = x.reshape(-1, 1)\n",
    "\n",
    "# create a minmax processor object\n",
    "min_max_scaler = MinMaxScaler()\n",
    "\n",
    "# create an object to transform the data to fit minmax processor\n",
    "x_scaled = min_max_scaler.fit_transform(x)\n",
    "\n",
    "# Run the normalizer on the dataframe\n",
    "test_data = test_data.assign(sim_score = x_scaled)\n",
    "\n",
    "# print the head of the data\n",
    "test_data.head()"
   ]
  },
  {
   "cell_type": "markdown",
   "metadata": {},
   "source": [
    "### 3. Create a `tf` session and set model params "
   ]
  },
  {
   "cell_type": "code",
   "execution_count": null,
   "metadata": {},
   "outputs": [],
   "source": [
    "# init a tf session\n",
    "sess = tf.Session()\n",
    "\n",
    "# model parameters\n",
    "batch_size = 200\n",
    "num_batches = 300\n",
    "max_address_len = 20\n",
    "margin = 0.20\n",
    "num_features = 50\n",
    "dropout_keep_prob = 0.8"
   ]
  },
  {
   "cell_type": "markdown",
   "metadata": {},
   "source": [
    "### 4. The Siamese LSTM model"
   ]
  },
  {
   "cell_type": "markdown",
   "metadata": {},
   "source": [
    "#### 4.1 Class definition for the Sia_lstm model"
   ]
  },
  {
   "cell_type": "code",
   "execution_count": 12,
   "metadata": {},
   "outputs": [],
   "source": [
    "# @param_1 : pair_one\n",
    "# @param_2 : pair_two\n",
    "# @param_3 : dropout_keep_prob\n",
    "# @param_4 : vocab_size\n",
    "# @param_5 : num_features\n",
    "# @param_6 : length\n",
    "class siamese_lstm(object):\n",
    "    # call the init function\n",
    "    def __init__(self, config):\n",
    "        # tf placeholders for input, output and dropout variables\n",
    "        self.input_text_left = tf.placeholder(tf.int32, [None, config.seq_len], name='input_text_left')\n",
    "        self.input_text_right = tf.placeholder(tf.int32, [None, config.seq_len], name='input_text_right')\n",
    "        self.input_sim_score = tf.placeholder(tf.float32, [None], name='input_sim_score')\n",
    "        self.dropout_keep_prob = tf.placeholder(tf.float32, name='dropout_keep_prob')\n",
    "        \n",
    "        # tf constant for l2 regularization loss\n",
    "        l2_reg_loss = tf.constant(0.0, name='l2_reg_loss')\n",
    "        \n",
    "        # using fastText embedding Embedding layer\n",
    "        with tf.name_scope('ft_word_embedding'):\n",
    "            # variables for the embedding layer\n",
    "            self.word = tf.Variable(\n",
    "                tf.constant(0.0, shape=[config.vocab_size, config.embedding_size]),\n",
    "                trainable=config.train_embeddings, name='word')\n",
    "            self.emb_words_left = tf.nn.embedding_lookup(self.word, self.input_text_left)\n",
    "            self.emb_words_right = tf.nn.embedding_lookup(self.word, self.input_text_right)\n",
    "            \n",
    "        # using a conv maxpool layer\n",
    "        with tf.name_scope('output'):\n",
    "            "
   ]
  },
  {
   "cell_type": "markdown",
   "metadata": {},
   "source": [
    "#### 4.3. Helper functions for the LSTM model"
   ]
  },
  {
   "cell_type": "code",
   "execution_count": 9,
   "metadata": {},
   "outputs": [],
   "source": [
    "# function for loading vectors from a .vec file\n",
    "def load_vec(file):\n",
    "    # create an empty dict\n",
    "    res = {}\n",
    "    \n",
    "    # open the file\n",
    "    f = io.open(file, encoding='utf-8', newline='\\n', errors='ignore')\n",
    "    \n",
    "    # map a integer over all the words\n",
    "    n, d = map(int, f.readline().split())\n",
    "    \n",
    "    # look for tokens\n",
    "    for line in f:\n",
    "        tokens = line.rstrip().split(' ')\n",
    "        res[tokens[0]] = map(float, tokens[1:])\n",
    "    \n",
    "    # return the vector representation\n",
    "    return res\n",
    "\n",
    "def exponent_neg_manhattan_distance(left, right):\n",
    "    ''' Helper function for the similarity estimate of the LSTMs outputs'''\n",
    "    return K.exp(-K.sum(K.abs(left-right), axis=1, keepdims=True))"
   ]
  },
  {
   "cell_type": "code",
   "execution_count": 35,
   "metadata": {},
   "outputs": [],
   "source": [
    "train_data.to_csv(\"train_data.csv\", sep = ',', encoding=\"utf-8\")"
   ]
  },
  {
   "cell_type": "code",
   "execution_count": 36,
   "metadata": {},
   "outputs": [],
   "source": [
    "test_data.to_csv(\"test_data.csv\", sep = ',', encoding=\"utf-8\")"
   ]
  },
  {
   "cell_type": "code",
   "execution_count": 38,
   "metadata": {},
   "outputs": [
    {
     "data": {
      "text/plain": [
       "<matplotlib.axes._subplots.AxesSubplot at 0x7f5d1acde7b8>"
      ]
     },
     "execution_count": 38,
     "metadata": {},
     "output_type": "execute_result"
    },
    {
     "data": {
      "image/png": "[encoded data removed]",
      "text/plain": [
       "<Figure size 432x288 with 1 Axes>"
      ]
     },
     "metadata": {},
     "output_type": "display_data"
    }
   ],
   "source": [
    "train_data['sim_score'].plot(kind='bar')0"
   ]
  },
  {
   "cell_type": "code",
   "execution_count": null,
   "metadata": {},
   "outputs": [],
   "source": []
  }
 ],
 "metadata": {
  "kernelspec": {
   "display_name": "Python 3",
   "language": "python",
   "name": "python3"
  },
  "language_info": {
   "codemirror_mode": {
    "name": "ipython",
    "version": 3
   },
   "file_extension": ".py",
   "mimetype": "text/x-python",
   "name": "python",
   "nbconvert_exporter": "python",
   "pygments_lexer": "ipython3",
   "version": "3.6.5"
  }
 },
 "nbformat": 4,
 "nbformat_minor": 2
}
