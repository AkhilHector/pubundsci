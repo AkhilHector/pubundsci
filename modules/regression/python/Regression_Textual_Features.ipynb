{
 "cells": [
  {
   "cell_type": "markdown",
   "metadata": {},
   "source": [
    "# Load the dataset and scikit-learn modules"
   ]
  },
  {
   "cell_type": "code",
   "execution_count": 31,
   "metadata": {
    "collapsed": false
   },
   "outputs": [],
   "source": [
    "from sklearn.linear_model import LinearRegression\n",
    "from scipy.stats import pearsonr as p1\n",
    "from scipy.stats import spearmanr as p2\n",
    "from scipy.stats import pointbiserialr as p3\n",
    "\n",
    "import pandas as pd\n",
    "import numpy as np\n",
    "from sklearn.svm import SVR\n",
    "import nltk\n",
    "\n",
    "raw_data = pd.read_csv(\"combined_dataset_beta.csv\")\n",
    "# raw_data = raw_data.sample(frac=0.01).reset_index(drop=True)\n",
    "raw_data = raw_data.sample(frac=1).reset_index(drop=True)\n",
    "\n",
    "raw_data = raw_data.fillna(value = 0)\n",
    "raw_data = raw_data.sample(frac = 1.0, random_state = 1)\n"
   ]
  },
  {
   "cell_type": "markdown",
   "metadata": {},
   "source": [
    "# Split the data into test and train"
   ]
  },
  {
   "cell_type": "code",
   "execution_count": 32,
   "metadata": {
    "collapsed": true
   },
   "outputs": [],
   "source": [
    "train = raw_data.sample(frac = 0.8, random_state = 1)\n",
    "test = raw_data.loc[~raw_data.index.isin(train.index)]"
   ]
  },
  {
   "cell_type": "markdown",
   "metadata": {},
   "source": [
    "# Selecting features to use for the regression model"
   ]
  },
  {
   "cell_type": "code",
   "execution_count": 33,
   "metadata": {
    "collapsed": true
   },
   "outputs": [],
   "source": [
    "data_columns = [\n",
    " 'yules_i_for_abs',\n",
    "#  'avg_word_len_abs',\n",
    "#  'avg_sen_len_abs',\n",
    "#  'freq_of_words_great_sent_len_abs',\n",
    " 'yules_i_for_blg',\n",
    "#  'avg_word_len_blg',\n",
    "#  'avg_sen_len_blg',\n",
    "#  'freq_of_words_great_sent_len_blg',\n",
    " 'mendeley_readers',\n",
    " 'citeulikereaders',\n",
    "#  'connoteareaders',\n",
    "#  'blog_users',\n",
    " 'blogs_posts_count',\n",
    " 'news_unique_users',\n",
    " 'total_posts_count',\n",
    " 'wiki_posts_count',\n",
    "#  'facebook_users',\n",
    " 'facebook_posts',\n",
    "#  'twitter_users',\n",
    " 'twitter_posts',\n",
    "#  'citation_page',\n",
    "#  'other_articles',\n",
    "#  'mean',\n",
    "#  'rank',\n",
    "#  'perc',\n",
    "#  'scored_higher_than',\n",
    "#  'sample_size',\n",
    " ]"
   ]
  },
  {
   "cell_type": "markdown",
   "metadata": {},
   "source": [
    "# Predicting the similairty score"
   ]
  },
  {
   "cell_type": "code",
   "execution_count": 34,
   "metadata": {
    "collapsed": true
   },
   "outputs": [],
   "source": [
    "train_data_array = train.as_matrix(columns = data_columns)\n",
    "train_target_array = train['similarity_score'].values\n",
    "test_data_array = test.as_matrix(columns = data_columns)\n",
    "test_target_array = test['similarity_score'].values"
   ]
  },
  {
   "cell_type": "markdown",
   "metadata": {},
   "source": [
    "# Regression on the Dataset : {KNN, DecisionTree and Random Forest}"
   ]
  },
  {
   "cell_type": "code",
   "execution_count": 35,
   "metadata": {
    "collapsed": false
   },
   "outputs": [
    {
     "name": "stdout",
     "output_type": "stream",
     "text": [
      "KNN\n",
      "0.00429045055796\n",
      "0.417254093132 \n",
      "\n",
      "DecisionTree\n",
      "0.00302784043684\n",
      "0.588746776736 \n",
      "\n",
      "Random Forest\n",
      "0.00190956274525\n",
      "0.740635660832 \n",
      "\n"
     ]
    }
   ],
   "source": [
    "from sklearn import linear_model\n",
    "from sklearn.metrics import *\n",
    "from sklearn.neighbors import KNeighborsRegressor\n",
    "from sklearn.ensemble import RandomForestRegressor\n",
    "from sklearn.tree import DecisionTreeRegressor\n",
    "from sklearn.svm import SVR\n",
    "from sklearn.cluster import KMeans\n",
    "from sklearn.cluster import SpectralClustering\n",
    "\n",
    "clf = linear_model.Lasso()\n",
    "svr_rbf = SVR(kernel='rbf', C=1e3, gamma=0.1)\n",
    "# svr_poly = SVR(kernel='poly', C=1e3, degree=2)\n",
    "\n",
    "# print(\"Linear\")\n",
    "# clf.fit(train_data_array, train_target_array)\n",
    "# y = clf.predict(test_data_array)\n",
    "# print(mean_squared_error(test_data_array, y))\n",
    "# print(r2_score(test_target_array, y), \"\\n\")\n",
    "\n",
    "print(\"KNN\")\n",
    "n =  KNeighborsRegressor(n_neighbors = 17)\n",
    "n.fit(train_data_array, train_target_array)\n",
    "y = n.predict(test_data_array)\n",
    "print(mean_squared_error(test_target_array, y))\n",
    "print(r2_score(test_target_array, y), \"\\n\")\n",
    "\n",
    "print(\"DecisionTree\")\n",
    "n =  DecisionTreeRegressor(criterion='mse')\n",
    "n.fit(train_data_array, train_target_array)\n",
    "y = n.predict(test_data_array)\n",
    "print(mean_squared_error(test_target_array, y))\n",
    "print(r2_score(test_target_array, y), \"\\n\")\n",
    "\n",
    "print(\"Random Forest\")\n",
    "n =  RandomForestRegressor()\n",
    "n.fit(train_data_array, train_target_array)\n",
    "y = n.predict(test_data_array)\n",
    "print(mean_squared_error(test_target_array, y))\n",
    "print(r2_score(test_target_array, y), \"\\n\")"
   ]
  },
  {
   "cell_type": "markdown",
   "metadata": {},
   "source": [
    "# KNN Clustering on entire Dataset"
   ]
  },
  {
   "cell_type": "code",
   "execution_count": 37,
   "metadata": {
    "collapsed": false,
    "scrolled": true
   },
   "outputs": [
    {
     "name": "stdout",
     "output_type": "stream",
     "text": [
      "(0.86070727760313426, 0.0)\n",
      "SpearmanrResult(correlation=0.88167409140918263, pvalue=0.0)\n",
      "PointbiserialrResult(correlation=0.86070727760313426, pvalue=0.0)\n"
     ]
    }
   ],
   "source": [
    "# print(\"KNN Cluster\")\n",
    "# n =  KMeans(n_clusters=5)\n",
    "# n.fit(train_data_array)\n",
    "# y = n.predict(test_data_array)\n",
    "# labels = n.labels_\n",
    "# centroids = n.cluster_centers_\n",
    "# print(centroids)\n",
    "# print(mean_squared_error(test_target_array, y))\n",
    "# print(r2_score(test_target_array, y), \"\\n\")\n",
    "print(p1(test_target_array, y))\n",
    "print(p2(test_target_array, y))\n",
    "print(p3(test_target_array, y))"
   ]
  },
  {
   "cell_type": "markdown",
   "metadata": {},
   "source": [
    "# SVM rbf on the entire Dataset"
   ]
  },
  {
   "cell_type": "code",
   "execution_count": null,
   "metadata": {
    "collapsed": true
   },
   "outputs": [],
   "source": [
    "print(\"SVM\")\n",
    "n =  SVR(kernel='rbf')\n",
    "n.fit(train_data_array, train_target_array)\n",
    "y = n.predict(test_data_array)\n",
    "print(mean_squared_error(test_target_array, y))\n",
    "print(r2_score(test_target_array, y), \"\\n\")\n",
    "\n",
    "svr_rbf.fit(train_data_array, train_target_array).predict(train_data_array)\n",
    "svr_rbf.score(test_data_array, test_target_array)\n",
    "\n",
    "# y_rbf = svr_rbf.fit(train_data_array, train_target_array).predict(train_data_array)\n",
    "# y_poly = svr_poly.fit(train_data_array, train_target_array).predict(train_data_array)\n",
    "# svr_poly.score(test_data_array, test_target_array)\n",
    "# y_poly.score(test_data_array, test_target_array)"
   ]
  }
 ],
 "metadata": {
  "kernelspec": {
   "display_name": "Python 3",
   "language": "python",
   "name": "python3"
  },
  "language_info": {
   "codemirror_mode": {
    "name": "ipython",
    "version": 3
   },
   "file_extension": ".py",
   "mimetype": "text/x-python",
   "name": "python",
   "nbconvert_exporter": "python",
   "pygments_lexer": "ipython3",
   "version": "3.6.0"
  }
 },
 "nbformat": 4,
 "nbformat_minor": 2
}
