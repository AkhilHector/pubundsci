{
 "cells": [
  {
   "cell_type": "code",
   "execution_count": 1,
   "metadata": {
    "collapsed": true
   },
   "outputs": [],
   "source": [
    "#Import Packages\n",
    "\n",
    "import csv, os, json, numpy as np, pandas as pd, re"
   ]
  },
  {
   "cell_type": "code",
   "execution_count": 2,
   "metadata": {
    "collapsed": true
   },
   "outputs": [],
   "source": [
    "#Specify Paths\n",
    "\n",
    "source = \"C:\\\\Users\\\\haris\\\\Documents\\\\Altmetric Data\\\\data\\\\\"\n",
    "dump = \"C:\\\\Users\\\\haris\\\\Documents\\\\FallScripts\\\\DumpFacebook.csv\""
   ]
  },
  {
   "cell_type": "code",
   "execution_count": 3,
   "metadata": {
    "collapsed": true
   },
   "outputs": [],
   "source": [
    "#Write Headers\n",
    "\n",
    "with open(dump, mode = 'w', newline = '') as csvFile:\n",
    "    fieldnames = ['altmetric_id', 'title', 'abstract', 'facebook_post']\n",
    "    csvWriter = csv.DictWriter(csvFile, fieldnames = fieldnames)\n",
    "    csvWriter.writeheader()"
   ]
  },
  {
   "cell_type": "code",
   "execution_count": null,
   "metadata": {
    "collapsed": false
   },
   "outputs": [],
   "source": [
    "#Open files, Read Data, Process Text, Write Data\n",
    "\n",
    "with open(dump, mode = 'a', newline = '') as dataFile:\n",
    "    csvWriter = csv.writer(dataFile)\n",
    "    for dirname in os.listdir(source):\n",
    "        subdir = source + dirname + '\\\\'\n",
    "        for filename in os.listdir(subdir):\n",
    "            file_path = subdir + filename\n",
    "            try:\n",
    "                with open(file_path) as json_file:\n",
    "\n",
    "                    raw_data = json.load(json_file)\n",
    "\n",
    "                    try:\n",
    "                        altmetric_id = raw_data['altmetric_id']\n",
    "                    except:\n",
    "                        pass\n",
    "\n",
    "                    try:\n",
    "                        title = json_data['citation']['subjects']['title']\n",
    "                        title = title.replace(',', '')\n",
    "                    except:\n",
    "                        pass\n",
    "\n",
    "                    try:\n",
    "                        abstract = json_data['citation']['abstract']\n",
    "                        abstract = abstract.replace(',', '')\n",
    "                    except:\n",
    "                        pass\n",
    "\n",
    "                    try:\n",
    "                        posts = []\n",
    "                        for post_count in json_data['posts']['facebook']:\n",
    "                            posts.append(json_data['posts']['facebook'][post_count]['summary'])\n",
    "                        for post in posts:\n",
    "                            post = ' '.join(re.sub(\"(^rt)|(@[A-Za-z0-9]+)|([^0-9A-Za-z \\t])|(\\w+:\\/\\/\\S+)\",\" \",post).split())\n",
    "                            post = post.replace(',', '')\n",
    "                            if(post in title or post in abstract):\n",
    "                                posts.remove(post)\n",
    "                    except:\n",
    "                        pass\n",
    "\n",
    "                    for post in posts:\n",
    "                        csvWriter.writerow([altmetric_id, title, abstract, post])\n",
    "\n",
    "            except:\n",
    "                pass"
   ]
  },
  {
   "cell_type": "code",
   "execution_count": null,
   "metadata": {
    "collapsed": true
   },
   "outputs": [],
   "source": []
  }
 ],
 "metadata": {
  "kernelspec": {
   "display_name": "Python 3",
   "language": "python",
   "name": "python3"
  },
  "language_info": {
   "codemirror_mode": {
    "name": "ipython",
    "version": 3
   },
   "file_extension": ".py",
   "mimetype": "text/x-python",
   "name": "python",
   "nbconvert_exporter": "python",
   "pygments_lexer": "ipython3",
   "version": "3.6.0"
  }
 },
 "nbformat": 4,
 "nbformat_minor": 2
}
